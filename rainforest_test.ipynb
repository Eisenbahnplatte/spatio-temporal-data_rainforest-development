{
 "cells": [
  {
   "cell_type": "code",
   "execution_count": 1,
   "id": "2679510e-bc35-48a2-92b6-0157bd812a29",
   "metadata": {
    "tags": []
   },
   "outputs": [
    {
     "name": "stderr",
     "output_type": "stream",
     "text": [
      "\u001b[32m\u001b[1m  Activating\u001b[22m\u001b[39m project at `~/workspace/uni/spatial_temporal_data/spatio_temporal_data-rainforest_development`\n",
      "\u001b[32m\u001b[1mPrecompiling\u001b[22m\u001b[39m project...\n",
      "\u001b[32m  ✓ \u001b[39m\u001b[90mlibsixel_jll\u001b[39m\n",
      "\u001b[32m  ✓ \u001b[39m\u001b[90mGettext_jll\u001b[39m\n",
      "\u001b[32m  ✓ \u001b[39m\u001b[90mFontconfig_jll\u001b[39m\n",
      "\u001b[32m  ✓ \u001b[39m\u001b[90mGlib_jll\u001b[39m\n",
      "\u001b[33m  ? \u001b[39m\u001b[90mImageBase\u001b[39m\n",
      "\u001b[33m  ? \u001b[39m\u001b[90mJpegTurbo\u001b[39m\n",
      "\u001b[32m  ✓ \u001b[39m\u001b[90mCairo_jll\u001b[39m\n",
      "\u001b[32m  ✓ \u001b[39m\u001b[90mHarfBuzz_jll\u001b[39m\n",
      "\u001b[32m  ✓ \u001b[39m\u001b[90mPango_jll\u001b[39m\n",
      "\u001b[32m  ✓ \u001b[39m\u001b[90mMeshIO\u001b[39m\n",
      "\u001b[32m  ✓ \u001b[39m\u001b[90mCairo\u001b[39m\n",
      "\u001b[33m  ? \u001b[39m\u001b[90mSixel\u001b[39m\n",
      "\u001b[32m  ✓ \u001b[39m\u001b[90mImageAxes\u001b[39m\n",
      "\u001b[32m  ✓ \u001b[39m\u001b[90mImageMetadata\u001b[39m\n",
      "\u001b[32m  ✓ \u001b[39m\u001b[90mNetpbm\u001b[39m\n",
      "\u001b[32m  ✓ \u001b[39m\u001b[90mImageIO\u001b[39m\n",
      "\u001b[32m  ✓ \u001b[39m\u001b[90mMakie\u001b[39m\n",
      "\u001b[32m  ✓ \u001b[39mGeoMakie\n",
      "\u001b[32m  ✓ \u001b[39mCairoMakie\n",
      "\u001b[32m  ✓ \u001b[39mGLMakie\n",
      "  17 dependencies successfully precompiled in 298 seconds. 253 already precompiled.\n",
      "  \u001b[33m3\u001b[39m dependencies failed but may be precompilable after restarting julia\n",
      "  \u001b[33m3\u001b[39m dependencies had warnings during precompilation:\u001b[33m\n",
      "┌ \u001b[39mSixel [45858cf5-a6b0-47a3-bbea-62219f50df47]\u001b[33m\n",
      "│  \u001b[39m\u001b[33m\u001b[1m┌ \u001b[22m\u001b[39m\u001b[33m\u001b[1mWarning: \u001b[22m\u001b[39mThe call to compilecache failed to create a usable precompiled cache file for ImageCore [a09fc81d-aa75-5fe9-8630-4744c3626534]\u001b[33m\n",
      "│  \u001b[39m\u001b[33m\u001b[1m│ \u001b[22m\u001b[39m  exception = Required dependency ColorVectorSpace [c3611d14-8923-5661-9e6a-0046d554d3a4] failed to load from a cache file.\u001b[33m\n",
      "│  \u001b[39m\u001b[33m\u001b[1m└ \u001b[22m\u001b[39m\u001b[90m@ Base loading.jl:1818\u001b[39m\u001b[33m\n",
      "└  \u001b[39m\u001b[33m\n",
      "┌ \u001b[39mJpegTurbo [b835a17e-a41a-41e7-81f0-2f016b05efe0]\u001b[33m\n",
      "│  \u001b[39m\u001b[33m\u001b[1m┌ \u001b[22m\u001b[39m\u001b[33m\u001b[1mWarning: \u001b[22m\u001b[39mThe call to compilecache failed to create a usable precompiled cache file for ColorVectorSpace [c3611d14-8923-5661-9e6a-0046d554d3a4]\u001b[33m\n",
      "│  \u001b[39m\u001b[33m\u001b[1m│ \u001b[22m\u001b[39m  exception = Required dependency SpecialFunctions [276daf66-3868-5448-9aa4-cd146d93841b] failed to load from a cache file.\u001b[33m\n",
      "│  \u001b[39m\u001b[33m\u001b[1m└ \u001b[22m\u001b[39m\u001b[90m@ Base loading.jl:1818\u001b[39m\u001b[33m\n",
      "└  \u001b[39m\u001b[33m\n",
      "┌ \u001b[39mImageBase [c817782e-172a-44cc-b673-b171935fbb9e]\u001b[33m\n",
      "│  \u001b[39m\u001b[33m\u001b[1m┌ \u001b[22m\u001b[39m\u001b[33m\u001b[1mWarning: \u001b[22m\u001b[39mThe call to compilecache failed to create a usable precompiled cache file for SpecialFunctions [276daf66-3868-5448-9aa4-cd146d93841b]\u001b[33m\n",
      "│  \u001b[39m\u001b[33m\u001b[1m│ \u001b[22m\u001b[39m  exception = Required dependency OpenSpecFun_jll [efe28fd5-8261-553b-a9e1-b2916fc3738e] failed to load from a cache file.\u001b[33m\n",
      "│  \u001b[39m\u001b[33m\u001b[1m└ \u001b[22m\u001b[39m\u001b[90m@ Base loading.jl:1818\u001b[39m\u001b[33m\n",
      "└  \u001b[39m\n"
     ]
    }
   ],
   "source": [
    "using Pkg\n",
    "Pkg.activate(\".\")\n"
   ]
  },
  {
   "cell_type": "code",
   "execution_count": 2,
   "id": "5232b838",
   "metadata": {},
   "outputs": [
    {
     "name": "stderr",
     "output_type": "stream",
     "text": [
      "\u001b[36m\u001b[1m[ \u001b[22m\u001b[39m\u001b[36m\u001b[1mInfo: \u001b[22m\u001b[39mPrecompiling Zarr [0a941bbe-ad1d-11e8-39d9-ab76183a1d99]\n",
      "\u001b[36m\u001b[1m[ \u001b[22m\u001b[39m\u001b[36m\u001b[1mInfo: \u001b[22m\u001b[39mPrecompiling YAXArrays [c21b50f5-aa40-41ea-b809-c0f5e47bfa5c]\n",
      "\u001b[36m\u001b[1m[ \u001b[22m\u001b[39m\u001b[36m\u001b[1mInfo: \u001b[22m\u001b[39mPrecompiling GeoMakie [db073c08-6b98-4ee5-b6a4-5efafb3259c6]\n",
      "\u001b[36m\u001b[1m[ \u001b[22m\u001b[39m\u001b[36m\u001b[1mInfo: \u001b[22m\u001b[39mPrecompiling GLMakie [e9467ef8-e4e7-5192-8a1a-b1aee30e663a]\n"
     ]
    }
   ],
   "source": [
    "include(\"src/rainforest_lib.jl\")\n",
    "using .Rainforestlib\n"
   ]
  },
  {
   "cell_type": "code",
   "execution_count": 5,
   "id": "46923fc5-ba57-4f29-8b61-5d52aa1ec4ea",
   "metadata": {},
   "outputs": [
    {
     "data": {
      "text/plain": [
       "YAXArray with the following dimensions\n",
       "lon                 Axis with 1080 Elements from -56.998611111111096 to -54.001388888888876\n",
       "lat                 Axis with 1440 Elements from -6.001388888888883 to -9.998611111111105\n",
       "time                Axis with 11 Elements from 2010-01-01T00:00:00 to 2020-01-01T00:00:00\n",
       "name: lccs_class\n",
       "Total size: 16.31 MB\n"
      ]
     },
     "execution_count": 5,
     "metadata": {},
     "output_type": "execute_result"
    }
   ],
   "source": [
    "using Zarr\n",
    "using YAXArrays\n",
    "\n",
    "lc = Rainforestlib.get_lcc_datacube()\n",
    "\n",
    "filtered_dc = Rainforestlib.rough_spatial_filter(lc; time_bounds = (Date(2010), Date(2021)))\n",
    "\n",
    "small_soy_region_dc = Rainforestlib.rough_spatial_filter(\n",
    "    lc;\n",
    "    lon_bounds = (-57, -54),\n",
    "    lat_bounds = (-10, -6), \n",
    "    time_bounds = (Date(2010), Date(2021))\n",
    ")"
   ]
  },
  {
   "cell_type": "code",
   "execution_count": 3,
   "id": "becf8b98",
   "metadata": {},
   "outputs": [
    {
     "data": {
      "text/plain": [
       "Set{String} with 13 elements:\n",
       "  \"tree_needleleaved_evergreen_open\"\n",
       "  \"tree_needleleaved_deciduous_closed\"\n",
       "  \"tree_needleleaved_deciduous_open\"\n",
       "  \"tree_needleleaved_deciduous_closed_to_open\"\n",
       "  \"tree_broadleaved_deciduous_open\"\n",
       "  \"tree_broadleaved_deciduous_closed\"\n",
       "  \"tree_broadleaved_evergreen_closed_to_open\"\n",
       "  \"tree_cover_flooded_saline_water\"\n",
       "  \"tree_needleleaved_evergreen_closed\"\n",
       "  \"tree_mixed\"\n",
       "  \"tree_broadleaved_deciduous_closed_to_open\"\n",
       "  \"tree_cover_flooded_fresh_or_brakish_water\"\n",
       "  \"tree_needleleaved_evergreen_closed_to_open\""
      ]
     },
     "execution_count": 3,
     "metadata": {},
     "output_type": "execute_result"
    }
   ],
   "source": [
    "include(\"src/LCCSClasses.jl\")\n",
    "using .LCCSClasses\n",
    "\n",
    "# set a set of accepted values\n",
    "rainforest_values = Set(LCCSClasses.categories[\"rainforest\"].lccs_classes)\n",
    "\n",
    "forest_values = Set(LCCSClasses.categories[\"forest\"].lccs_classes)\n",
    "\n",
    "all_forest_values = union(forest_values, rainforest_values)"
   ]
  },
  {
   "cell_type": "code",
   "execution_count": null,
   "id": "1667af24",
   "metadata": {},
   "outputs": [],
   "source": [
    "# WARNING: do not try this with the huge datacube, it wont work. The in function needs to be ported to datacubes, the native one is not working\n",
    "# to create the world map, simply set local_map=false\n",
    "global_figure = Rainforestlib.build_figure_by_lcc_classes(lc, rainforest_values; local_map = false, set_nan = true)"
   ]
  },
  {
   "cell_type": "code",
   "execution_count": null,
   "id": "76b1b25b",
   "metadata": {},
   "outputs": [],
   "source": [
    "using .Rainforestlib\n",
    "\n",
    "# local is the default, and makes the map as large as the datapoints\n",
    "# but can me changed by setting \n",
    "\n",
    "using Colors, ColorSchemes\n",
    "\n",
    "custom_colormap = [\n",
    "    RGB(1.0, 1.0, 1.0),  # Red\n",
    "    RGB(0.0, 0.0, 1.0),  # Blue\n",
    "    RGB(0.0, 1.0, 0.0)   # Green\n",
    "]\n",
    "\n",
    "local_figure = Rainforestlib.build_figure_by_lcc_classes(small_soy_region_dc, all_forest_values; colormap = custom_colormap, colorrange = (0,1), set_nan = true)"
   ]
  },
  {
   "cell_type": "code",
   "execution_count": null,
   "id": "220f864f",
   "metadata": {},
   "outputs": [],
   "source": [
    "using .Rainforestlib\n",
    "\n",
    "local_figure = Rainforestlib.build_figure_all_classes(filtered_dc; set_nan = true)"
   ]
  },
  {
   "cell_type": "code",
   "execution_count": null,
   "id": "37e8f378",
   "metadata": {},
   "outputs": [],
   "source": [
    "Rainforestlib.build_plots_over_time(filtered_dc, all_forest_values; resolution=(2000, 2000), set_nan = true)"
   ]
  },
  {
   "cell_type": "code",
   "execution_count": 6,
   "id": "7b37ed92",
   "metadata": {},
   "outputs": [
    {
     "name": "stdout",
     "output_type": "stream",
     "text": [
      "Number of rainforest pixels in 2010-01-01T00:00:00: 1.325171e6\n"
     ]
    },
    {
     "name": "stderr",
     "output_type": "stream",
     "text": [
      "\u001b[33m\u001b[1m┌ \u001b[22m\u001b[39m\u001b[33m\u001b[1mWarning: \u001b[22m\u001b[39mCould not find font regular, using TeX Gyre Heros Makie\n",
      "\u001b[33m\u001b[1m└ \u001b[22m\u001b[39m\u001b[90m@ Makie ~/.julia/packages/Makie/iECbF/src/conversions.jl:993\u001b[39m\n"
     ]
    },
    {
     "name": "stdout",
     "output_type": "stream",
     "text": [
      "Number of rainforest pixels in 2011-01-01T00:00:00: 1.324896e6\n",
      "Number of rainforest pixels in 2012-01-01T00:00:00: 1.324261e6\n",
      "Number of rainforest pixels in 2013-01-01T00:00:00: 1.32273e6\n",
      "Number of rainforest pixels in 2014-01-01T00:00:00: 1.322726e6\n",
      "Number of rainforest pixels in 2015-01-01T00:00:00: 1.322725e6\n",
      "Number of rainforest pixels in 2016-01-01T00:00:00: 1.321695e6\n",
      "Number of rainforest pixels in 2017-01-01T00:00:00: 1.3214e6\n",
      "Number of rainforest pixels in 2018-01-01T00:00:00: 1.321067e6\n",
      "Number of rainforest pixels in 2019-01-01T00:00:00: 1.320718e6\n",
      "Number of rainforest pixels in 2020-01-01T00:00:00: 1.320511e6\n"
     ]
    }
   ],
   "source": [
    "# build one figure with diffs for each timestep\n",
    "\n",
    "using .Rainforestlib\n",
    "using Colors, ColorSchemes\n",
    "using GLMakie\n",
    "\n",
    "\n",
    "custom_colormap = [\n",
    "    RGB(1.0, 1.0, 1.0),  # White\n",
    "    RGB(0.0, 1.0, 0.0),  # Green\n",
    "    RGB(0.0, 0.0, 1.0),  # Blue\n",
    "    RGB(1.0, 0.0, 0.0),  # Red\n",
    "]\n",
    "\n",
    "Rainforestlib.build_diff_figures_over_time(small_soy_region_dc, Rainforestlib.LCCSClasses.categories[\"rainforest\"], \"imgs\"; name_base = \"diff_first_year_small_soy_region\", resolution = (3000, 3000))\n"
   ]
  }
 ],
 "metadata": {
  "kernelspec": {
   "display_name": "Julia (4 threads) 1.9.2",
   "language": "julia",
   "name": "julia-_4-threads_-1.9"
  },
  "language_info": {
   "file_extension": ".jl",
   "mimetype": "application/julia",
   "name": "julia",
   "version": "1.9.2"
  }
 },
 "nbformat": 4,
 "nbformat_minor": 5
}
