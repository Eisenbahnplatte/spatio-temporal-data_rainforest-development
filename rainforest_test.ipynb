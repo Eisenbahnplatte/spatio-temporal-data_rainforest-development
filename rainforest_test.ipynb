{
 "cells": [
  {
   "cell_type": "code",
   "execution_count": 1,
   "id": "2679510e-bc35-48a2-92b6-0157bd812a29",
   "metadata": {
    "tags": []
   },
   "outputs": [
    {
     "name": "stderr",
     "output_type": "stream",
     "text": [
      "\u001b[32m\u001b[1m  Activating\u001b[22m\u001b[39m project at `~/workspace/uni/spatial_temporal_data/spatio_temporal_data-rainforest_development`\n",
      "\u001b[32m\u001b[1mPrecompiling\u001b[22m\u001b[39m project...\n",
      "\u001b[32m  ✓ \u001b[39m\u001b[90mEzXML\u001b[39m\n",
      "\u001b[32m  ✓ \u001b[39m\u001b[90mBlosc_jll\u001b[39m\n",
      "\u001b[32m  ✓ \u001b[39m\u001b[90mXMLDict\u001b[39m\n",
      "\u001b[32m  ✓ \u001b[39m\u001b[90mBlosc\u001b[39m\n",
      "\u001b[32m  ✓ \u001b[39m\u001b[90mOnlineStats\u001b[39m\n",
      "\u001b[32m  ✓ \u001b[39m\u001b[90mForwardDiff\u001b[39m\n",
      "\u001b[32m  ✓ \u001b[39m\u001b[90mForwardDiff → ForwardDiffStaticArraysExt\u001b[39m\n",
      "\u001b[32m  ✓ \u001b[39m\u001b[90mNLSolversBase\u001b[39m\n",
      "\u001b[32m  ✓ \u001b[39m\u001b[90mWeightedOnlineStats\u001b[39m\n",
      "\u001b[32m  ✓ \u001b[39m\u001b[90mLineSearches\u001b[39m\n",
      "\u001b[32m  ✓ \u001b[39m\u001b[90mOptim\u001b[39m\n",
      "\u001b[32m  ✓ \u001b[39m\u001b[90mAWS\u001b[39m\n",
      "\u001b[32m  ✓ \u001b[39m\u001b[90mAWSS3\u001b[39m\n",
      "\u001b[32m  ✓ \u001b[39mYAXArrays\n",
      "\u001b[32m  ✓ \u001b[39mZarr\n",
      "  15 dependencies successfully precompiled in 14 seconds. 258 already precompiled.\n"
     ]
    }
   ],
   "source": [
    "using Pkg\n",
    "Pkg.activate(\".\")\n",
    "Pkg.instantiate()\n"
   ]
  },
  {
   "cell_type": "code",
   "execution_count": 2,
   "id": "5232b838",
   "metadata": {},
   "outputs": [
    {
     "name": "stderr",
     "output_type": "stream",
     "text": [
      "\u001b[36m\u001b[1m[ \u001b[22m\u001b[39m\u001b[36m\u001b[1mInfo: \u001b[22m\u001b[39mPrecompiling Zarr [0a941bbe-ad1d-11e8-39d9-ab76183a1d99]\n",
      "\u001b[36m\u001b[1m[ \u001b[22m\u001b[39m\u001b[36m\u001b[1mInfo: \u001b[22m\u001b[39mPrecompiling YAXArrays [c21b50f5-aa40-41ea-b809-c0f5e47bfa5c]\n",
      "\u001b[36m\u001b[1m[ \u001b[22m\u001b[39m\u001b[36m\u001b[1mInfo: \u001b[22m\u001b[39mPrecompiling GeoMakie [db073c08-6b98-4ee5-b6a4-5efafb3259c6]\n",
      "\u001b[36m\u001b[1m[ \u001b[22m\u001b[39m\u001b[36m\u001b[1mInfo: \u001b[22m\u001b[39mPrecompiling GLMakie [e9467ef8-e4e7-5192-8a1a-b1aee30e663a]\n"
     ]
    }
   ],
   "source": [
    "include(\"src/rainforest_lib.jl\")\n",
    "using .Rainforestlib\n"
   ]
  },
  {
   "cell_type": "code",
   "execution_count": 3,
   "id": "46923fc5-ba57-4f29-8b61-5d52aa1ec4ea",
   "metadata": {},
   "outputs": [
    {
     "ename": "LoadError",
     "evalue": "UndefVarError: `Date` not defined",
     "output_type": "error",
     "traceback": [
      "UndefVarError: `Date` not defined",
      "",
      "Stacktrace:",
      " [1] top-level scope",
      "   @ In[3]:3"
     ]
    }
   ],
   "source": [
    "using Zarr\n",
    "using YAXArrays\n",
    "\n",
    "lc = Rainforestlib.get_lcc_datacube()\n",
    "\n",
    "filtered_dc = Rainforestlib.rough_spatial_filter(lc; time_bounds = (Date(2010), Date(2021)))\n",
    "\n",
    "small_soy_region_dc = Rainforestlib.rough_spatial_filter(\n",
    "    lc;\n",
    "    lon_bounds = (-57, -54),\n",
    "    lat_bounds = (-10, -6), \n",
    "    time_bounds = (Date(2010), Date(2021))\n",
    ")"
   ]
  },
  {
   "cell_type": "code",
   "execution_count": 3,
   "id": "becf8b98",
   "metadata": {},
   "outputs": [
    {
     "data": {
      "text/plain": [
       "Set{String} with 13 elements:\n",
       "  \"tree_needleleaved_evergreen_open\"\n",
       "  \"tree_needleleaved_deciduous_closed\"\n",
       "  \"tree_needleleaved_deciduous_open\"\n",
       "  \"tree_needleleaved_deciduous_closed_to_open\"\n",
       "  \"tree_broadleaved_deciduous_open\"\n",
       "  \"tree_broadleaved_deciduous_closed\"\n",
       "  \"tree_broadleaved_evergreen_closed_to_open\"\n",
       "  \"tree_cover_flooded_saline_water\"\n",
       "  \"tree_needleleaved_evergreen_closed\"\n",
       "  \"tree_mixed\"\n",
       "  \"tree_broadleaved_deciduous_closed_to_open\"\n",
       "  \"tree_cover_flooded_fresh_or_brakish_water\"\n",
       "  \"tree_needleleaved_evergreen_closed_to_open\""
      ]
     },
     "execution_count": 3,
     "metadata": {},
     "output_type": "execute_result"
    }
   ],
   "source": [
    "include(\"src/LCCSClasses.jl\")\n",
    "using .LCCSClasses\n",
    "\n",
    "# set a set of accepted values\n",
    "rainforest_values = Set(LCCSClasses.categories[\"rainforest\"].lccs_classes)\n",
    "\n",
    "forest_values = Set(LCCSClasses.categories[\"forest\"].lccs_classes)\n",
    "\n",
    "all_forest_values = union(forest_values, rainforest_values)"
   ]
  },
  {
   "cell_type": "code",
   "execution_count": null,
   "id": "1667af24",
   "metadata": {},
   "outputs": [],
   "source": [
    "# WARNING: do not try this with the huge datacube, it wont work. The in function needs to be ported to datacubes, the native one is not working\n",
    "# to create the world map, simply set local_map=false\n",
    "global_figure = Rainforestlib.build_figure_by_lcc_classes(lc, rainforest_values; local_map = false, set_nan = true)"
   ]
  },
  {
   "cell_type": "code",
   "execution_count": null,
   "id": "76b1b25b",
   "metadata": {},
   "outputs": [],
   "source": [
    "using .Rainforestlib\n",
    "\n",
    "# local is the default, and makes the map as large as the datapoints\n",
    "# but can me changed by setting \n",
    "\n",
    "using Colors, ColorSchemes\n",
    "\n",
    "custom_colormap = [\n",
    "    RGB(1.0, 1.0, 1.0),  # Red\n",
    "    RGB(0.0, 0.0, 1.0),  # Blue\n",
    "    RGB(0.0, 1.0, 0.0)   # Green\n",
    "]\n",
    "\n",
    "local_figure = Rainforestlib.build_figure_by_lcc_classes(small_soy_region_dc, all_forest_values; colormap = custom_colormap, colorrange = (0,1), set_nan = true)"
   ]
  },
  {
   "cell_type": "code",
   "execution_count": null,
   "id": "220f864f",
   "metadata": {},
   "outputs": [],
   "source": [
    "using .Rainforestlib\n",
    "\n",
    "local_figure = Rainforestlib.build_figure_all_classes(filtered_dc; set_nan = true)"
   ]
  },
  {
   "cell_type": "code",
   "execution_count": null,
   "id": "37e8f378",
   "metadata": {},
   "outputs": [],
   "source": [
    "Rainforestlib.build_plots_over_time(filtered_dc, all_forest_values; resolution=(2000, 2000), set_nan = true)"
   ]
  },
  {
   "cell_type": "code",
   "execution_count": 4,
   "id": "7b37ed92",
   "metadata": {},
   "outputs": [
    {
     "name": "stdout",
     "output_type": "stream",
     "text": [
      "Number of rainforest pixels in 2010-01-01T00:00:00: 4.614232e6\n"
     ]
    },
    {
     "name": "stderr",
     "output_type": "stream",
     "text": [
      "┌ Warning: Could not find font regular, using TeX Gyre Heros Makie\n",
      "└ @ Makie /home/denis/.julia/packages/Makie/iECbF/src/conversions.jl:993\n"
     ]
    },
    {
     "name": "stdout",
     "output_type": "stream",
     "text": [
      "Number of rainforest pixels in 2011-01-01T00:00:00: 4.611793e6\n"
     ]
    },
    {
     "name": "stdout",
     "output_type": "stream",
     "text": [
      "Number of rainforest pixels in 2012-01-01T00:00:00: 4.611263e6\n"
     ]
    },
    {
     "name": "stdout",
     "output_type": "stream",
     "text": [
      "Number of rainforest pixels in 2013-01-01T00:00:00: 4.610353e6\n"
     ]
    },
    {
     "name": "stdout",
     "output_type": "stream",
     "text": [
      "Number of rainforest pixels in 2014-01-01T00:00:00: 4.613331e6\n"
     ]
    },
    {
     "name": "stdout",
     "output_type": "stream",
     "text": [
      "Number of rainforest pixels in 2015-01-01T00:00:00: 4.613325e6\n"
     ]
    },
    {
     "name": "stdout",
     "output_type": "stream",
     "text": [
      "Number of rainforest pixels in 2016-01-01T00:00:00: 4.615178e6\n"
     ]
    },
    {
     "name": "stdout",
     "output_type": "stream",
     "text": [
      "Number of rainforest pixels in 2017-01-01T00:00:00: 4.61473e6\n"
     ]
    },
    {
     "name": "stdout",
     "output_type": "stream",
     "text": [
      "Number of rainforest pixels in 2018-01-01T00:00:00: 4.613133e6\n"
     ]
    },
    {
     "name": "stdout",
     "output_type": "stream",
     "text": [
      "Number of rainforest pixels in 2019-01-01T00:00:00: 4.614627e6\n"
     ]
    },
    {
     "name": "stdout",
     "output_type": "stream",
     "text": [
      "Number of rainforest pixels in 2020-01-01T00:00:00: 4.615558e6\n"
     ]
    }
   ],
   "source": [
    "# build one figure with diffs for each timestep\n",
    "\n",
    "using .Rainforestlib\n",
    "using Colors, ColorSchemes\n",
    "using GLMakie\n",
    "\n",
    "\n",
    "custom_colormap = [\n",
    "    RGB(1.0, 1.0, 1.0),  # White\n",
    "    RGB(0.0, 1.0, 0.0),  # Green\n",
    "    RGB(0.0, 0.0, 1.0),  # Blue\n",
    "    RGB(1.0, 0.0, 0.0),  # Red\n",
    "]\n",
    "\n",
    "Rainforestlib.build_diff_figures_over_time(small_soy_region_dc, Rainforestlib.LCCSClasses.categories[\"rainforest\"], \"imgs\"; name_base = \"diff_first_year_small_soy_region\", resolution = (3000, 3000))\n"
   ]
  }
 ],
 "metadata": {
  "kernelspec": {
   "display_name": "Julia (4 threads) 1.9.2",
   "language": "julia",
   "name": "julia-_4-threads_-1.9"
  },
  "language_info": {
   "file_extension": ".jl",
   "mimetype": "application/julia",
   "name": "julia",
   "version": "1.9.2"
  }
 },
 "nbformat": 4,
 "nbformat_minor": 5
}
