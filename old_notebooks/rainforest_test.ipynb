{
 "cells": [
  {
   "cell_type": "code",
   "execution_count": null,
   "id": "2679510e-bc35-48a2-92b6-0157bd812a29",
   "metadata": {
    "tags": []
   },
   "outputs": [],
   "source": [
    "using Pkg\n",
    "Pkg.activate(\".\")\n"
   ]
  },
  {
   "cell_type": "code",
   "execution_count": null,
   "id": "5232b838",
   "metadata": {},
   "outputs": [],
   "source": [
    "include(\"src/rainforest_lib.jl\")\n",
    "using .Rainforestlib\n"
   ]
  },
  {
   "cell_type": "code",
   "execution_count": null,
   "id": "46923fc5-ba57-4f29-8b61-5d52aa1ec4ea",
   "metadata": {},
   "outputs": [],
   "source": [
    "using Zarr\n",
    "using YAXArrays\n",
    "\n",
    "lc = Rainforestlib.get_lcc_datacube()\n",
    "\n",
    "filtered_dc = Rainforestlib.rough_spatial_filter(lc; time_bounds = (Date(2010), Date(2021)))\n",
    "\n",
    "small_soy_region_dc = Rainforestlib.rough_spatial_filter(\n",
    "    lc;\n",
    "    lon_bounds = (-57, -54),\n",
    "    lat_bounds = (-10, -6), \n",
    "    time_bounds = (Date(2010), Date(2021))\n",
    ")"
   ]
  },
  {
   "cell_type": "code",
   "execution_count": null,
   "id": "becf8b98",
   "metadata": {},
   "outputs": [],
   "source": [
    "include(\"src/LCCSClasses.jl\")\n",
    "using .LCCSClasses\n",
    "\n",
    "# set a set of accepted values\n",
    "rainforest_values = Set(LCCSClasses.categories[\"rainforest\"].lccs_classes)\n",
    "\n",
    "forest_values = Set(LCCSClasses.categories[\"forest\"].lccs_classes)\n",
    "\n",
    "all_forest_values = union(forest_values, rainforest_values)"
   ]
  },
  {
   "cell_type": "code",
   "execution_count": null,
   "id": "1667af24",
   "metadata": {},
   "outputs": [],
   "source": [
    "# WARNING: do not try this with the huge datacube, it wont work. The in function needs to be ported to datacubes, the native one is not working\n",
    "# to create the world map, simply set local_map=false\n",
    "global_figure = Rainforestlib.build_figure_by_lcc_classes(lc, rainforest_values; local_map = false, set_nan = true)"
   ]
  },
  {
   "cell_type": "code",
   "execution_count": null,
   "id": "76b1b25b",
   "metadata": {},
   "outputs": [],
   "source": [
    "using .Rainforestlib\n",
    "\n",
    "# local is the default, and makes the map as large as the datapoints\n",
    "# but can me changed by setting \n",
    "\n",
    "using Colors, ColorSchemes\n",
    "\n",
    "custom_colormap = [\n",
    "    RGB(1.0, 1.0, 1.0),  # Red\n",
    "    RGB(0.0, 0.0, 1.0),  # Blue\n",
    "    RGB(0.0, 1.0, 0.0)   # Green\n",
    "]\n",
    "\n",
    "local_figure = Rainforestlib.build_figure_by_lcc_classes(small_soy_region_dc, all_forest_values; colormap = custom_colormap, colorrange = (0,1), set_nan = true)"
   ]
  },
  {
   "cell_type": "code",
   "execution_count": null,
   "id": "220f864f",
   "metadata": {},
   "outputs": [],
   "source": [
    "using .Rainforestlib\n",
    "\n",
    "local_figure = Rainforestlib.build_figure_all_classes(filtered_dc; set_nan = true)"
   ]
  },
  {
   "cell_type": "code",
   "execution_count": null,
   "id": "37e8f378",
   "metadata": {},
   "outputs": [],
   "source": [
    "Rainforestlib.build_plots_over_time(filteset_nanred_dc, all_forest_values; resolution=(2000, 2000), set_nan = true)"
   ]
  },
  {
   "cell_type": "code",
   "execution_count": null,
   "id": "7b37ed92",
   "metadata": {},
   "outputs": [],
   "source": [
    "# build one figure with diffs for each timestep\n",
    "\n",
    "Rainforestlib.build_diff_figures_over_time(small_soy_region_dc, Rainforestlib.LCCSClasses.categories[\"rainforest\"], \"imgs\"; name_base = \"diff_first_year_small_soy_region\", resolution = (3000, 3000))\n"
   ]
  },
  {
   "cell_type": "code",
   "execution_count": null,
   "id": "f79267b4",
   "metadata": {},
   "outputs": [],
   "source": [
    "# build a bar chart with rainforest changes\n",
    "Rainforestlib.rainforest_diff_over_time(filtered_dc, Rainforestlib.LCCSClasses.categories[\"rainforest\"]; resolution = (3000, 1000), gradual_diff = true)\n"
   ]
  }
 ],
 "metadata": {
  "kernelspec": {
   "display_name": "Julia 1.9.1",
   "language": "julia",
   "name": "julia-1.9"
  },
  "language_info": {
   "file_extension": ".jl",
   "mimetype": "application/julia",
   "name": "julia",
   "version": "1.9.1"
  }
 },
 "nbformat": 4,
 "nbformat_minor": 5
}
