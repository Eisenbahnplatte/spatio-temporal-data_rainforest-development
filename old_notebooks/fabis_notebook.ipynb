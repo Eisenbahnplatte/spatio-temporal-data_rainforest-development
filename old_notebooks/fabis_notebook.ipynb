{
 "cells": [
  {
   "cell_type": "code",
   "execution_count": null,
   "id": "2679510e-bc35-48a2-92b6-0157bd812a29",
   "metadata": {
    "tags": []
   },
   "outputs": [],
   "source": [
    "using Pkg\n",
    "Pkg.activate(\".\")\n",
    "Pkg.instantiate()\n",
    "\n",
    "# Code only works with YAXArrays 0.4.6\n",
    "# Pkg.add(PackageSpec(name =\"YAXArrays\", version=\"0.4.6\"))\n",
    "# using YAXArrays\n",
    "# using Zarr"
   ]
  },
  {
   "cell_type": "code",
   "execution_count": null,
   "id": "becf8b98",
   "metadata": {},
   "outputs": [],
   "source": [
    "\n",
    "import JSON\n",
    "\n",
    "include(\"src/rainforest_lib.jl\")\n",
    "using .Rainforestlib\n",
    "\n",
    "using Dates\n",
    "\n",
    "lcc_path = JSON.parsefile(\"src/datacube_paths.json\")[\"coarse\"]\n",
    "lcc = Rainforestlib.get_lc_datacube(lcc_path)\n",
    "\n",
    "filtered_dc = Rainforestlib.spatio_temporal_filter(lcc; lon_bounds=(-82, -34), lat_bounds= (-56.5,13), time_bounds = (Date(2010), Date(2021)))\n",
    "\n",
    "#=======================#\n",
    "\n",
    "include(\"src/LCCSClasses.jl\")\n",
    "using .LCCSClasses\n",
    "\n",
    "# set a set of accepted values\n",
    "rainforest_values = Set(LCCSClasses.categories[\"rainforest\"].lccs_classes)\n",
    "\n",
    "forest_values = Set(LCCSClasses.categories[\"forest\"].lccs_classes)\n",
    "\n",
    "all_forest_values = union(forest_values, rainforest_values)\n"
   ]
  },
  {
   "cell_type": "code",
   "execution_count": null,
   "id": "76b1b25b",
   "metadata": {},
   "outputs": [],
   "source": [
    "include(\"src/rainforest_lib.jl\")\n",
    "using .Rainforestlib\n",
    "include(\"src/LCCSClasses.jl\")\n",
    "using .LCCSClasses\n",
    "\n",
    "searched_classes = filter(p -> first(p) == \"rainforest\" || first(p) == \"forest\", Rainforestlib.LCCSClasses.categories)\n",
    "searched_classes = sort(searched_classes, by = x -> x[2])\n",
    "\n",
    "\n",
    "using Colors, ColorSchemes\n",
    "\n",
    "# custom_colormap = [RGB(1/length(searched_classes)*i, 1/length(searched_classes)*(length(searched_classes)-i), 1/length(searched_classes)*(length(searched_classes)-i)) for i in 1:length(searched_classes)]\n",
    "custom_colormap = [\n",
    "    RGB(0.0, 1.0, 0.0),  # Green\n",
    "    RGB(0.0, 0.0, 1.0),  # Blue\n",
    "    #RGB(1.0, 0.0, 0.0)   # Red\n",
    "]\n",
    "# display(custom_colormap)\n",
    "\n",
    "local_figure = Rainforestlib.build_figure_by_categories(filtered_dc, searched_classes; colormap = custom_colormap, legend=true, title=\"Rainforest of South America\")\n"
   ]
  },
  {
   "cell_type": "code",
   "execution_count": null,
   "id": "e08d8ef9",
   "metadata": {},
   "outputs": [],
   "source": [
    "include(\"src/rainforest_lib.jl\")\n",
    "using .Rainforestlib\n",
    "using Colors, ColorSchemes\n",
    "\n",
    "custom_colormap = [\n",
    "    RGB(1.0, 1.0, 1.0),  # Red\n",
    "    RGB(0.0, 0.0, 1.0),  # Blue\n",
    "    RGB(0.0, 1.0, 0.0)   # Green\n",
    "]\n",
    "\n",
    "#build a map of the rainforest in south america\n",
    "local_figure = Rainforestlib.build_figure_by_lcc_classes(\n",
    "    filtered_dc, \n",
    "    all_forest_values; \n",
    "    set_nan = true,\n",
    "    legend=true\n",
    ")"
   ]
  }
 ],
 "metadata": {
  "kernelspec": {
   "display_name": "Julia 1.9.2",
   "language": "julia",
   "name": "julia-1.9"
  },
  "language_info": {
   "file_extension": ".jl",
   "mimetype": "application/julia",
   "name": "julia",
   "version": "1.9.2"
  }
 },
 "nbformat": 4,
 "nbformat_minor": 5
}
