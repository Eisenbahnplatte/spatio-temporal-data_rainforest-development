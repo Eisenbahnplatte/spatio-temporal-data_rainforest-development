{
 "cells": [
  {
   "cell_type": "code",
   "execution_count": 2,
   "id": "2679510e-bc35-48a2-92b6-0157bd812a29",
   "metadata": {
    "tags": []
   },
   "outputs": [
    {
     "name": "stderr",
     "output_type": "stream",
     "text": [
      "\u001b[32m\u001b[1m  Activating\u001b[22m\u001b[39m project at `~/git/spatio_temporal_data-rainforest_development`\n"
     ]
    },
    {
     "name": "stderr",
     "output_type": "stream",
     "text": [
      "\u001b[32m\u001b[1m  No Changes\u001b[22m\u001b[39m to `~/git/spatio_temporal_data-rainforest_development/Project.toml`\n",
      "\u001b[32m\u001b[1m  No Changes\u001b[22m\u001b[39m to `~/git/spatio_temporal_data-rainforest_development/Manifest.toml`\n"
     ]
    }
   ],
   "source": [
    "using Pkg\n",
    "Pkg.activate(\".\")\n",
    "Pkg.resolve()\n",
    "Pkg.instantiate()\n",
    "\n",
    "using YAXArrays\n",
    "using Zarr\n",
    "using Dates"
   ]
  },
  {
   "cell_type": "code",
   "execution_count": 4,
   "id": "becf8b98",
   "metadata": {},
   "outputs": [
    {
     "name": "stderr",
     "output_type": "stream",
     "text": [
      "WARNING: replacing module Rainforestlib.\n"
     ]
    },
    {
     "data": {
      "text/plain": [
       "Set{String} with 13 elements:\n",
       "  \"tree_needleleaved_evergreen_open\"\n",
       "  \"tree_needleleaved_deciduous_closed\"\n",
       "  \"tree_needleleaved_deciduous_open\"\n",
       "  \"tree_needleleaved_deciduous_closed_to_open\"\n",
       "  \"tree_broadleaved_deciduous_open\"\n",
       "  \"tree_broadleaved_deciduous_closed\"\n",
       "  \"tree_broadleaved_evergreen_closed_to_open\"\n",
       "  \"tree_cover_flooded_saline_water\"\n",
       "  \"tree_needleleaved_evergreen_closed\"\n",
       "  \"tree_mixed\"\n",
       "  \"tree_broadleaved_deciduous_closed_to_open\"\n",
       "  \"tree_cover_flooded_fresh_or_brakish_water\"\n",
       "  \"tree_needleleaved_evergreen_closed_to_open\""
      ]
     },
     "metadata": {},
     "output_type": "display_data"
    }
   ],
   "source": [
    "\n",
    "include(\"src/rainforest_lib.jl\")\n",
    "using .Rainforestlib\n",
    "\n",
    "lc = Rainforestlib.get_lcc_datacube()\n",
    "filtered_dc = Rainforestlib.rough_spatial_filter(lc; time_bounds = (Date(2010), Date(2021)))\n",
    "\n",
    "\n",
    "include(\"src/categories.jl\")\n",
    "# set a set of accepted values\n",
    "rainforest_values = Set(RainforestCategories.categories[\"rainforest\"].lccs_classes)\n",
    "forest_values = Set(RainforestCategories.categories[\"forest\"].lccs_classes)\n",
    "all_forest_values = union(forest_values, rainforest_values)\n"
   ]
  },
  {
   "cell_type": "code",
   "execution_count": null,
   "id": "1667af24",
   "metadata": {},
   "outputs": [],
   "source": [
    "# WARNING: do not try this with the huge datacube, it wont work. The in function needs to be ported to datacubes, the native one is not working\n",
    "# to create the world map, simply set local_map=false\n",
    "global_figure = Rainforestlib.build_figure_by_lcc_classes(lc, accepted_values, false)"
   ]
  },
  {
   "cell_type": "code",
   "execution_count": 10,
   "id": "76b1b25b",
   "metadata": {},
   "outputs": [
    {
     "ename": "ErrorException",
     "evalue": "Number of elements not equal: 3 content elements and 13 labels.",
     "output_type": "error",
     "traceback": [
      "Number of elements not equal: 3 content elements and 13 labels.\n",
      "\n",
      "Stacktrace:\n",
      " [1] error(s::String)\n",
      "   @ Base ./error.jl:35\n",
      " [2] Legend(fig_or_scene::GridPosition, contents::Vector{Lines{Tuple{Vector{Point{2, Float32}}}}}, labels::Vector{String}, title::String; kwargs::Base.Pairs{Symbol, Any, NTuple{6, Symbol}, NamedTuple{(:tellheight, :tellwidth, :margin, :halign, :valign, :orientation), Tuple{Bool, Bool, NTuple{4, Int64}, Symbol, Symbol, Symbol}}})\n",
      "   @ Makie ~/.julia/packages/Makie/iECbF/src/makielayout/blocks/legend.jl:487\n",
      " [3] top-level scope\n",
      "   @ ~/git/spatio_temporal_data-rainforest_development/fabis_notebook.ipynb:31"
     ]
    }
   ],
   "source": [
    "#using .Rainforestlib\n",
    "\n",
    "# local is the default, and makes the map as large as the datapoints\n",
    "# but can me changed by setting \n",
    "\n",
    "searched_values = all_forest_values\n",
    "\n",
    "using Colors, ColorSchemes\n",
    "\n",
    "mycmap = ColorScheme([RGB{Float64}(i, 1.5i, 2i) for i in [0.0, 0.25, 0.35, 0.5]])\n",
    "\n",
    "custom_colormap = [\n",
    "    RGB(1.0, 0.0, 0.0),  # Red\n",
    "    RGB(0.0, 0.0, 1.0),  # Blue\n",
    "    RGB(0.0, 1.0, 0.0)   # Green\n",
    "]\n",
    "\n",
    "\n",
    "\n",
    "local_figure = Rainforestlib.build_figure_by_lcc_classes(filtered_dc, searched_values; colormap = custom_colormap, colorrange=(1,2))\n",
    "\n",
    "\n",
    "using CairoMakie\n",
    "xs = 0:0.1:10\n",
    "lins = [lines!(xs, sin.(xs .* i), color = color)\n",
    "    for (i, color) in zip(1:3, [:red, :blue, :green])]\n",
    "\n",
    "# xs = 0:0.1:10\n",
    "# lins = [lines!(xs, sin.(xs .+ 3v), color = RGBf(v, 0, 1-v)) for v in 0:0.1:0.2]\n",
    "\n",
    "Legend(\n",
    "    local_figure[1, 1], lins, [\"$lcss_class\" for lcss_class in searched_values],\n",
    "    \"Legend\",\n",
    "    tellheight = false,\n",
    "    tellwidth = false,\n",
    "    margin = (110, 10, 50, 10),\n",
    "    halign = :left, valign = :bottom, orientation = :vertical\n",
    ")\n",
    "\n",
    "local_figure\n"
   ]
  }
 ],
 "metadata": {
  "kernelspec": {
   "display_name": "Julia 1.9.1",
   "language": "julia",
   "name": "julia-1.9"
  },
  "language_info": {
   "file_extension": ".jl",
   "mimetype": "application/julia",
   "name": "julia",
   "version": "1.9.1"
  }
 },
 "nbformat": 4,
 "nbformat_minor": 5
}
