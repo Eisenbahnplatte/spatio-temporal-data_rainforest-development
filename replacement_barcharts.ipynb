{
 "cells": [
  {
   "cell_type": "code",
   "execution_count": 1,
   "metadata": {},
   "outputs": [
    {
     "name": "stderr",
     "output_type": "stream",
     "text": [
      "\u001b[32m\u001b[1m  Activating\u001b[22m\u001b[39m project at `~/workspace/uni/spatial_temporal_data/spatio_temporal_data-rainforest_development`\n",
      "\u001b[36m\u001b[1m[ \u001b[22m\u001b[39m\u001b[36m\u001b[1mInfo: \u001b[22m\u001b[39mPrecompiling Zarr [0a941bbe-ad1d-11e8-39d9-ab76183a1d99]\n",
      "\u001b[36m\u001b[1m[ \u001b[22m\u001b[39m\u001b[36m\u001b[1mInfo: \u001b[22m\u001b[39mPrecompiling YAXArrays [c21b50f5-aa40-41ea-b809-c0f5e47bfa5c]\n",
      "\u001b[36m\u001b[1m[ \u001b[22m\u001b[39m\u001b[36m\u001b[1mInfo: \u001b[22m\u001b[39mPrecompiling GeoMakie [db073c08-6b98-4ee5-b6a4-5efafb3259c6]\n",
      "\u001b[36m\u001b[1m[ \u001b[22m\u001b[39m\u001b[36m\u001b[1mInfo: \u001b[22m\u001b[39mPrecompiling GLMakie [e9467ef8-e4e7-5192-8a1a-b1aee30e663a]\n"
     ]
    }
   ],
   "source": [
    "using Pkg\n",
    "Pkg.activate(\".\")\n",
    "\n",
    "include(\"src/rainforest_lib.jl\")\n",
    "using .Rainforestlib"
   ]
  },
  {
   "cell_type": "code",
   "execution_count": 2,
   "metadata": {},
   "outputs": [
    {
     "data": {
      "text/plain": [
       "YAXArray with the following dimensions\n",
       "lon                 Axis with 1080 Elements from -56.998611111111096 to -54.001388888888876\n",
       "lat                 Axis with 1440 Elements from -6.001388888888883 to -9.998611111111105\n",
       "time                Axis with 11 Elements from 2010-01-01T00:00:00 to 2020-01-01T00:00:00\n",
       "name: lccs_class\n",
       "Total size: 16.31 MB\n"
      ]
     },
     "execution_count": 2,
     "metadata": {},
     "output_type": "execute_result"
    }
   ],
   "source": [
    "using Zarr\n",
    "using YAXArrays\n",
    "\n",
    "lc = Rainforestlib.get_lcc_datacube()\n",
    "\n",
    "filtered_dc = Rainforestlib.rough_spatial_filter(lc; time_bounds = (Date(2010), Date(2021)))\n",
    "\n",
    "small_soy_region_dc = Rainforestlib.rough_spatial_filter(\n",
    "    lc;\n",
    "    lon_bounds = (-57, -54),\n",
    "    lat_bounds = (-10, -6), \n",
    "    time_bounds = (Date(2010), Date(2021))\n",
    ")"
   ]
  },
  {
   "cell_type": "code",
   "execution_count": 12,
   "metadata": {},
   "outputs": [
    {
     "data": {
      "text/plain": [
       "Set{String} with 13 elements:\n",
       "  \"tree_needleleaved_evergreen_open\"\n",
       "  \"tree_needleleaved_deciduous_closed\"\n",
       "  \"tree_needleleaved_deciduous_open\"\n",
       "  \"tree_needleleaved_deciduous_closed_to_open\"\n",
       "  \"tree_broadleaved_deciduous_open\"\n",
       "  \"tree_broadleaved_deciduous_closed\"\n",
       "  \"tree_broadleaved_evergreen_closed_to_open\"\n",
       "  \"tree_cover_flooded_saline_water\"\n",
       "  \"tree_needleleaved_evergreen_closed\"\n",
       "  \"tree_mixed\"\n",
       "  \"tree_broadleaved_deciduous_closed_to_open\"\n",
       "  \"tree_cover_flooded_fresh_or_brakish_water\"\n",
       "  \"tree_needleleaved_evergreen_closed_to_open\""
      ]
     },
     "execution_count": 12,
     "metadata": {},
     "output_type": "execute_result"
    }
   ],
   "source": [
    "\n",
    "\n",
    "# set a set of accepted values\n",
    "rainforest_values = Set(Rainforestlib.LCCSClasses.categories[\"rainforest\"].lccs_classes)\n",
    "\n",
    "forest_values = Set(Rainforestlib.LCCSClasses.categories[\"forest\"].lccs_classes)\n",
    "\n",
    "all_forest_values = union(forest_values, rainforest_values)"
   ]
  },
  {
   "cell_type": "code",
   "execution_count": 42,
   "metadata": {},
   "outputs": [
    {
     "data": {
      "text/plain": [
       "count_replacement (generic function with 2 methods)"
      ]
     },
     "execution_count": 42,
     "metadata": {},
     "output_type": "execute_result"
    }
   ],
   "source": [
    "function count_replacement(old_flag_matrix::Matrix{UInt8}, new_flag_matrix::Matrix{UInt8}, tracked_category::LCCSClasses.Category)::Dict{UInt8, Int64}\n",
    "    # it is assumed that both have the same size\n",
    "\n",
    "    result = Dict()\n",
    "\n",
    "    (rows, cols) = size(old_flag_matrix)\n",
    "    for row in 1:rows\n",
    "        for col in 1:cols\n",
    "            old_value = old_flag_matrix[row, col]\n",
    "            new_value = new_flag_matrix[row, col]\n",
    "\n",
    "            if old_value != new_value && old_value in tracked_category.lccs_flags \n",
    "\n",
    "                if new_value in keys(result)\n",
    "                    result[new_value] += 1\n",
    "                else\n",
    "                    result[new_value] = 1\n",
    "                end\n",
    "            end\n",
    "        end\n",
    "    end\n",
    "\n",
    "    return result\n",
    "\n",
    "end"
   ]
  },
  {
   "cell_type": "code",
   "execution_count": 46,
   "metadata": {},
   "outputs": [
    {
     "data": {
      "text/plain": [
       "get_replacement_data (generic function with 2 methods)"
      ]
     },
     "execution_count": 46,
     "metadata": {},
     "output_type": "execute_result"
    }
   ],
   "source": [
    "function get_replacement_data(\n",
    "    datacube,\n",
    "    timestep::Int,\n",
    "    tracked_category::Rainforestlib.LCCSClasses.Category\n",
    ")::Tuple{Array{Int}, Array{Int}, Array{Int}}\n",
    "\n",
    "    timesteps = YAXArrays.getAxis(\"time\", datacube).values\n",
    "\n",
    "    # step number is aways one smaller then the start\n",
    "    step = timestep - 1\n",
    "\n",
    "    old_year = timesteps[timestep-1]\n",
    "    new_year = timesteps[timestep]\n",
    "\n",
    "    results_dict = count_replacement(datacube[:, :, timestep-1], datacube[:, :, timestep], tracked_category)\n",
    "\n",
    "    sorted_result_keys = sort!([k for k in keys(results_dict)])\n",
    "\n",
    "\n",
    "    x_vals = fill(step, length(sorted_result_keys))\n",
    "\n",
    "    y_vals = [results_dict[k] for k in sorted_result_keys]\n",
    "\n",
    "    grp = 1:length(sorted_result_keys)\n",
    "\n",
    "\n",
    "    return (x_vals, y_vals, grp)\n",
    "\n",
    "end\n"
   ]
  },
  {
   "cell_type": "code",
   "execution_count": 47,
   "metadata": {},
   "outputs": [
    {
     "data": {
      "text/plain": [
       "build_replacement_figure (generic function with 1 method)"
      ]
     },
     "execution_count": 47,
     "metadata": {},
     "output_type": "execute_result"
    }
   ],
   "source": [
    "function build_replacement_figure(\n",
    "    datacube,\n",
    "    tracked_category::LCCSClasses.Category;\n",
    ")\n",
    "\n",
    "    timesteps = YAXArrays.getAxis(\"time\", datacube).values\n",
    "\n",
    "    x_vals = Vector()\n",
    "    y_vals = Vector()\n",
    "    gpr_vals = Vector()\n",
    "\n",
    "    xaxis_names = [string(timesteps[timestep-1]) * \" to \" * string(timesteps[timestep]) for timestep in 2:length(timesteps)]\n",
    "\n",
    "    for timestep in 2:length(timesteps)\n",
    "\n",
    "        old_year = timesteps[timestep-1]\n",
    "        new_year = timesteps[timestep]\n",
    "\n",
    "        results_dict = count_replacement(datacube[:, :, timestep-1], datacube[:, :, timestep], tracked_category)\n",
    "\n",
    "        x, y, gpr = get_replacement_data(\n",
    "            datacube,\n",
    "            timestep,\n",
    "            tracked_category\n",
    "        )\n",
    "\n",
    "        println(\"X: $(x); Y: $(y); GPR: $(gpr)\")\n",
    "\n",
    "        x_vals = [x_vals; x]\n",
    "        y_vals = [x_vals; y]\n",
    "        gpr_vals = [gpr_vals; gpr]\n",
    "        \n",
    "    end    \n",
    "\n",
    "    println(\"\\n\\n\\nX: $(x_vals); Y: $(y_vals); GPR: $(gpr_vals)\")\n",
    "    println(xaxis_names)\n",
    "end"
   ]
  },
  {
   "cell_type": "code",
   "execution_count": 48,
   "metadata": {},
   "outputs": [
    {
     "ename": "LoadError",
     "evalue": "MethodError: no method matching sort(::Base.KeySet{UInt8, Dict{UInt8, Int64}})\n\n\u001b[0mClosest candidates are:\n\u001b[0m  sort(\u001b[91m::AbstractUnitRange\u001b[39m)\n\u001b[0m\u001b[90m   @\u001b[39m \u001b[90mBase\u001b[39m \u001b[90m\u001b[4mrange.jl:1384\u001b[24m\u001b[39m\n\u001b[0m  sort(\u001b[91m::AbstractRange\u001b[39m)\n\u001b[0m\u001b[90m   @\u001b[39m \u001b[90mBase\u001b[39m \u001b[90m\u001b[4mrange.jl:1387\u001b[24m\u001b[39m\n\u001b[0m  sort(\u001b[91m::OrderedCollections.LittleDict\u001b[39m; byvalue, args...)\n\u001b[0m\u001b[90m   @\u001b[39m \u001b[36mOrderedCollections\u001b[39m \u001b[90m~/.julia/packages/OrderedCollections/vTcqn/src/\u001b[39m\u001b[90m\u001b[4mdict_sorting.jl:38\u001b[24m\u001b[39m\n\u001b[0m  ...\n",
     "output_type": "error",
     "traceback": [
      "MethodError: no method matching sort(::Base.KeySet{UInt8, Dict{UInt8, Int64}})\n\n\u001b[0mClosest candidates are:\n\u001b[0m  sort(\u001b[91m::AbstractUnitRange\u001b[39m)\n\u001b[0m\u001b[90m   @\u001b[39m \u001b[90mBase\u001b[39m \u001b[90m\u001b[4mrange.jl:1384\u001b[24m\u001b[39m\n\u001b[0m  sort(\u001b[91m::AbstractRange\u001b[39m)\n\u001b[0m\u001b[90m   @\u001b[39m \u001b[90mBase\u001b[39m \u001b[90m\u001b[4mrange.jl:1387\u001b[24m\u001b[39m\n\u001b[0m  sort(\u001b[91m::OrderedCollections.LittleDict\u001b[39m; byvalue, args...)\n\u001b[0m\u001b[90m   @\u001b[39m \u001b[36mOrderedCollections\u001b[39m \u001b[90m~/.julia/packages/OrderedCollections/vTcqn/src/\u001b[39m\u001b[90m\u001b[4mdict_sorting.jl:38\u001b[24m\u001b[39m\n\u001b[0m  ...\n",
      "",
      "Stacktrace:",
      " [1] get_replacement_data(datacube::YAXArray{UInt8, 3, DiskArrays.SubDiskArray{UInt8, 3}, Vector{CubeAxis}}, timestep::Int64, tracked_category::Main.LCCSClasses.Category)",
      "   @ Main ./In[5]:17",
      " [2] build_replacement_figure(datacube::YAXArray{UInt8, 3, DiskArrays.SubDiskArray{UInt8, 3}, Vector{CubeAxis}}, tracked_category::Main.LCCSClasses.Category)",
      "   @ Main ./In[47]:21",
      " [3] top-level scope",
      "   @ In[48]:1"
     ]
    }
   ],
   "source": [
    "build_replacement_figure(filtered_dc, LCCSClasses.categories[\"rainforest\"])"
   ]
  }
 ],
 "metadata": {
  "kernelspec": {
   "display_name": "Julia (4 threads) 1.9.2",
   "language": "julia",
   "name": "julia-_4-threads_-1.9"
  },
  "language_info": {
   "file_extension": ".jl",
   "mimetype": "application/julia",
   "name": "julia",
   "version": "1.9.2"
  },
  "orig_nbformat": 4
 },
 "nbformat": 4,
 "nbformat_minor": 2
}
