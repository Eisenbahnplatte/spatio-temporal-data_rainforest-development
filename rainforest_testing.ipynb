{
 "cells": [
  {
   "cell_type": "code",
   "execution_count": 1,
   "id": "2679510e-bc35-48a2-92b6-0157bd812a29",
   "metadata": {
    "tags": []
   },
   "outputs": [
    {
     "name": "stderr",
     "output_type": "stream",
     "text": [
      "\u001b[32m\u001b[1m  Activating\u001b[22m\u001b[39m project at `~/spatial-temporal-stuff/spatio_temporal_data-rainforest_development`\n",
      "\u001b[36m\u001b[1m[ \u001b[22m\u001b[39m\u001b[36m\u001b[1mInfo: \u001b[22m\u001b[39mPrecompiling YAXArrays [c21b50f5-aa40-41ea-b809-c0f5e47bfa5c]\n"
     ]
    }
   ],
   "source": [
    "using Pkg\n",
    "Pkg.activate(\".\")\n",
    "Pkg.instantiate()\n",
    "using YAXArrays\n",
    "using Zarr\n",
    "using Dates"
   ]
  },
  {
   "cell_type": "code",
   "execution_count": 10,
   "id": "f7630a0f-f927-46c9-9126-549cdaba8770",
   "metadata": {},
   "outputs": [
    {
     "name": "stderr",
     "output_type": "stream",
     "text": [
      "WARNING: replacing module RainforestLib.\n"
     ]
    }
   ],
   "source": [
    "include(\"./rainforest_lib.jl\")\n",
    "using .RainforestLib"
   ]
  },
  {
   "cell_type": "code",
   "execution_count": 11,
   "id": "46923fc5-ba57-4f29-8b61-5d52aa1ec4ea",
   "metadata": {},
   "outputs": [
    {
     "name": "stderr",
     "output_type": "stream",
     "text": [
      "\u001b[33m\u001b[1m┌ \u001b[22m\u001b[39m\u001b[33m\u001b[1mWarning: \u001b[22m\u001b[39mconnection_limit no longer supported as a keyword argument; use `HTTP.set_default_connection_limit!(25)` before any requests are made or construct a shared pool via `POOL = HTTP.Pool(25)` and pass to each request like `pool=POOL` instead.\n",
      "\u001b[33m\u001b[1m└ \u001b[22m\u001b[39m\u001b[90m@ HTTP.Connections ~/.julia/packages/HTTP/uAaAw/src/Connections.jl:434\u001b[39m\n",
      "\u001b[33m\u001b[1m┌ \u001b[22m\u001b[39m\u001b[33m\u001b[1mWarning: \u001b[22m\u001b[39mconnection_limit no longer supported as a keyword argument; use `HTTP.set_default_connection_limit!(25)` before any requests are made or construct a shared pool via `POOL = HTTP.Pool(25)` and pass to each request like `pool=POOL` instead.\n",
      "\u001b[33m\u001b[1m└ \u001b[22m\u001b[39m\u001b[90m@ HTTP.Connections ~/.julia/packages/HTTP/uAaAw/src/Connections.jl:434\u001b[39m\n",
      "\u001b[33m\u001b[1m┌ \u001b[22m\u001b[39m\u001b[33m\u001b[1mWarning: \u001b[22m\u001b[39mconnection_limit no longer supported as a keyword argument; use `HTTP.set_default_connection_limit!(25)` before any requests are made or construct a shared pool via `POOL = HTTP.Pool(25)` and pass to each request like `pool=POOL` instead.\n",
      "\u001b[33m\u001b[1m└ \u001b[22m\u001b[39m\u001b[90m@ HTTP.Connections ~/.julia/packages/HTTP/uAaAw/src/Connections.jl:434\u001b[39m\n",
      "\u001b[33m\u001b[1m┌ \u001b[22m\u001b[39m\u001b[33m\u001b[1mWarning: \u001b[22m\u001b[39mconnection_limit no longer supported as a keyword argument; use `HTTP.set_default_connection_limit!(25)` before any requests are made or construct a shared pool via `POOL = HTTP.Pool(25)` and pass to each request like `pool=POOL` instead.\n",
      "\u001b[33m\u001b[1m└ \u001b[22m\u001b[39m\u001b[90m@ HTTP.Connections ~/.julia/packages/HTTP/uAaAw/src/Connections.jl:434\u001b[39m\n"
     ]
    },
    {
     "data": {
      "text/plain": [
       "YAXArray with the following dimensions\n",
       "lon                 Axis with 129600 Elements from -179.9986111111111 to 179.99861111111113\n",
       "lat                 Axis with 64800 Elements from 89.99861111111113 to -89.99861111111112\n",
       "time                Axis with 11 Elements from 2010-01-01T00:00:00 to 2020-01-01T00:00:00\n",
       "name: lccs_class\n",
       "Total size: 86.03 GB\n"
      ]
     },
     "execution_count": 11,
     "metadata": {},
     "output_type": "execute_result"
    }
   ],
   "source": [
    "lc = RainforestLib.get_lcc_datacube()\n"
   ]
  },
  {
   "cell_type": "code",
   "execution_count": 12,
   "id": "d6a138b8-d322-4e7f-a6fc-2d6ea22b83a5",
   "metadata": {},
   "outputs": [
    {
     "data": {
      "text/plain": [
       "YAXArray with the following dimensions\n",
       "lon                 Axis with 21600 Elements from 30.001388888888904 to 89.99861111111113\n",
       "lat                 Axis with 16200 Elements from 14.99861111111112 to -29.99861111111111\n",
       "time                Axis with 2 Elements from 2010-01-01T00:00:00 to 2011-01-01T00:00:00\n",
       "name: lccs_class\n",
       "Total size: 667.42 MB\n"
      ]
     },
     "execution_count": 12,
     "metadata": {},
     "output_type": "execute_result"
    }
   ],
   "source": [
    "filtered_dc = RainforestLib.rough_spatial_filter(lc)"
   ]
  },
  {
   "cell_type": "code",
   "execution_count": null,
   "id": "46140d2e-59b6-4c8e-aa5f-ac4593a4931f",
   "metadata": {},
   "outputs": [],
   "source": []
  }
 ],
 "metadata": {
  "kernelspec": {
   "display_name": "Julia 1.8.5",
   "language": "julia",
   "name": "julia-1.8"
  },
  "language_info": {
   "file_extension": ".jl",
   "mimetype": "application/julia",
   "name": "julia",
   "version": "1.8.5"
  }
 },
 "nbformat": 4,
 "nbformat_minor": 5
}
