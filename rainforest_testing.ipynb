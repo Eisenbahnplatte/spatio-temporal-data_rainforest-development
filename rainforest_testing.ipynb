{
 "cells": [
  {
   "cell_type": "code",
   "execution_count": 1,
   "id": "2679510e-bc35-48a2-92b6-0157bd812a29",
   "metadata": {
    "tags": []
   },
   "outputs": [
    {
     "name": "stderr",
     "output_type": "stream",
     "text": [
      "\u001b[32m\u001b[1m  Activating\u001b[22m\u001b[39m project at `~/workspace/uni/spatial_temporal_data/spatio_temporal_data-rainforest_development`\n"
     ]
    }
   ],
   "source": [
    "using Pkg\n",
    "Pkg.activate(\".\")\n",
    "# Pkg.instantiate()\n",
    "using YAXArrays\n",
    "using Zarr\n",
    "using Dates"
   ]
  },
  {
   "cell_type": "code",
   "execution_count": 2,
   "id": "f7630a0f-f927-46c9-9126-549cdaba8770",
   "metadata": {},
   "outputs": [],
   "source": [
    "include(\"./rainforest_lib.jl\")\n",
    "using .RainforestLib"
   ]
  },
  {
   "cell_type": "code",
   "execution_count": 3,
   "id": "46923fc5-ba57-4f29-8b61-5d52aa1ec4ea",
   "metadata": {},
   "outputs": [
    {
     "data": {
      "text/plain": [
       "YAXArray with the following dimensions\n",
       "lon                 Axis with 129600 Elements from -179.9986111111111 to 179.99861111111113\n",
       "lat                 Axis with 64800 Elements from 89.99861111111113 to -89.99861111111112\n",
       "time                Axis with 11 Elements from 2010-01-01T00:00:00 to 2020-01-01T00:00:00\n",
       "name: lccs_class\n",
       "Total size: 86.03 GB\n"
      ]
     },
     "metadata": {},
     "output_type": "display_data"
    }
   ],
   "source": [
    "lc = RainforestLib.get_lcc_datacube()\n"
   ]
  },
  {
   "cell_type": "code",
   "execution_count": 4,
   "id": "d6a138b8-d322-4e7f-a6fc-2d6ea22b83a5",
   "metadata": {},
   "outputs": [
    {
     "data": {
      "text/plain": [
       "YAXArray with the following dimensions\n",
       "lon                 Axis with 21600 Elements from -89.9986111111111 to -30.001388888888876\n",
       "lat                 Axis with 16200 Elements from 14.99861111111112 to -29.99861111111111\n",
       "time                Axis with 2 Elements from 2010-01-01T00:00:00 to 2011-01-01T00:00:00\n",
       "name: lccs_class\n",
       "Total size: 667.42 MB\n"
      ]
     },
     "metadata": {},
     "output_type": "display_data"
    }
   ],
   "source": [
    "filtered_dc = RainforestLib.rough_spatial_filter(lc)\n"
   ]
  },
  {
   "cell_type": "code",
   "execution_count": 5,
   "id": "46140d2e-59b6-4c8e-aa5f-ac4593a4931f",
   "metadata": {},
   "outputs": [
    {
     "data": {
      "text/plain": [
       "21600×16200 Matrix{UInt8}:\n",
       " 0x28  0x28  0x28  0x6e  0x6e  0x64  …  0xd2  0xd2  0xd2  0xd2  0xd2  0xd2\n",
       " 0x32  0x28  0x28  0x64  0x32  0x32     0xd2  0xd2  0xd2  0xd2  0xd2  0xd2\n",
       " 0x28  0x78  0x78  0x78  0x64  0x28     0xd2  0xd2  0xd2  0xd2  0xd2  0xd2\n",
       " 0x28  0x28  0x32  0x64  0x28  0x28     0xd2  0xd2  0xd2  0xd2  0xd2  0xd2\n",
       " 0x28  0x32  0x32  0x64  0x28  0x28     0xd2  0xd2  0xd2  0xd2  0xd2  0xd2\n",
       " 0x28  0x32  0x32  0x32  0x28  0x28  …  0xd2  0xd2  0xd2  0xd2  0xd2  0xd2\n",
       " 0x28  0x64  0x64  0x28  0x78  0x28     0xd2  0xd2  0xd2  0xd2  0xd2  0xd2\n",
       " 0x32  0x32  0x32  0x28  0x78  0x28     0xd2  0xd2  0xd2  0xd2  0xd2  0xd2\n",
       " 0x32  0x64  0x32  0x28  0x78  0x28     0xd2  0xd2  0xd2  0xd2  0xd2  0xd2\n",
       " 0x32  0x64  0x64  0x28  0x28  0x28     0xd2  0xd2  0xd2  0xd2  0xd2  0xd2\n",
       "    ⋮                             ⋮  ⋱           ⋮                    \n",
       " 0xd2  0xd2  0xd2  0xd2  0xd2  0xd2     0xd2  0xd2  0xd2  0xd2  0xd2  0xd2\n",
       " 0xd2  0xd2  0xd2  0xd2  0xd2  0xd2     0xd2  0xd2  0xd2  0xd2  0xd2  0xd2\n",
       " 0xd2  0xd2  0xd2  0xd2  0xd2  0xd2     0xd2  0xd2  0xd2  0xd2  0xd2  0xd2\n",
       " 0xd2  0xd2  0xd2  0xd2  0xd2  0xd2     0xd2  0xd2  0xd2  0xd2  0xd2  0xd2\n",
       " 0xd2  0xd2  0xd2  0xd2  0xd2  0xd2  …  0xd2  0xd2  0xd2  0xd2  0xd2  0xd2\n",
       " 0xd2  0xd2  0xd2  0xd2  0xd2  0xd2     0xd2  0xd2  0xd2  0xd2  0xd2  0xd2\n",
       " 0xd2  0xd2  0xd2  0xd2  0xd2  0xd2     0xd2  0xd2  0xd2  0xd2  0xd2  0xd2\n",
       " 0xd2  0xd2  0xd2  0xd2  0xd2  0xd2     0xd2  0xd2  0xd2  0xd2  0xd2  0xd2\n",
       " 0xd2  0xd2  0xd2  0xd2  0xd2  0xd2     0xd2  0xd2  0xd2  0xd2  0xd2  0xd2"
      ]
     },
     "metadata": {},
     "output_type": "display_data"
    }
   ],
   "source": [
    "local_dc = filtered_dc[:,:, 1]\n",
    "\n",
    "# global_dc = lc[:,:, 1]"
   ]
  },
  {
   "cell_type": "code",
   "execution_count": 6,
   "id": "5f95f901",
   "metadata": {},
   "outputs": [
    {
     "data": {
      "text/plain": [
       "21600×16200 Matrix{Float32}:\n",
       " NaN    NaN    NaN    NaN    NaN    …  NaN  NaN  NaN  NaN  NaN  NaN  NaN\n",
       "   1.0  NaN    NaN    NaN      1.0     NaN  NaN  NaN  NaN  NaN  NaN  NaN\n",
       " NaN    NaN    NaN    NaN    NaN       NaN  NaN  NaN  NaN  NaN  NaN  NaN\n",
       " NaN    NaN      1.0  NaN    NaN       NaN  NaN  NaN  NaN  NaN  NaN  NaN\n",
       " NaN      1.0    1.0  NaN    NaN       NaN  NaN  NaN  NaN  NaN  NaN  NaN\n",
       " NaN      1.0    1.0    1.0  NaN    …  NaN  NaN  NaN  NaN  NaN  NaN  NaN\n",
       " NaN    NaN    NaN    NaN    NaN       NaN  NaN  NaN  NaN  NaN  NaN  NaN\n",
       "   1.0    1.0    1.0  NaN    NaN       NaN  NaN  NaN  NaN  NaN  NaN  NaN\n",
       "   1.0  NaN      1.0  NaN    NaN       NaN  NaN  NaN  NaN  NaN  NaN  NaN\n",
       "   1.0  NaN    NaN    NaN    NaN       NaN  NaN  NaN  NaN  NaN  NaN  NaN\n",
       "   ⋮                                ⋱              ⋮                 \n",
       " NaN    NaN    NaN    NaN    NaN       NaN  NaN  NaN  NaN  NaN  NaN  NaN\n",
       " NaN    NaN    NaN    NaN    NaN       NaN  NaN  NaN  NaN  NaN  NaN  NaN\n",
       " NaN    NaN    NaN    NaN    NaN       NaN  NaN  NaN  NaN  NaN  NaN  NaN\n",
       " NaN    NaN    NaN    NaN    NaN       NaN  NaN  NaN  NaN  NaN  NaN  NaN\n",
       " NaN    NaN    NaN    NaN    NaN    …  NaN  NaN  NaN  NaN  NaN  NaN  NaN\n",
       " NaN    NaN    NaN    NaN    NaN       NaN  NaN  NaN  NaN  NaN  NaN  NaN\n",
       " NaN    NaN    NaN    NaN    NaN       NaN  NaN  NaN  NaN  NaN  NaN  NaN\n",
       " NaN    NaN    NaN    NaN    NaN       NaN  NaN  NaN  NaN  NaN  NaN  NaN\n",
       " NaN    NaN    NaN    NaN    NaN       NaN  NaN  NaN  NaN  NaN  NaN  NaN"
      ]
     },
     "metadata": {},
     "output_type": "display_data"
    }
   ],
   "source": [
    "bitmask = RainforestLib.build_bitmask_by_lccs_class(local_dc, Set([\"tree_broadleaved_evergreen_closed_to_open\"]))"
   ]
  },
  {
   "cell_type": "code",
   "execution_count": 7,
   "id": "10020c71",
   "metadata": {},
   "outputs": [
    {
     "data": {
      "text/plain": [
       "16200×21600 adjoint(::Matrix{Float32}) with eltype Float32:\n",
       " NaN    1.0  NaN  NaN    NaN    NaN    …  NaN  NaN  NaN  NaN  NaN  NaN  NaN\n",
       " NaN  NaN    NaN  NaN      1.0    1.0     NaN  NaN  NaN  NaN  NaN  NaN  NaN\n",
       " NaN  NaN    NaN    1.0    1.0    1.0     NaN  NaN  NaN  NaN  NaN  NaN  NaN\n",
       " NaN  NaN    NaN  NaN    NaN      1.0     NaN  NaN  NaN  NaN  NaN  NaN  NaN\n",
       " NaN    1.0  NaN  NaN    NaN    NaN       NaN  NaN  NaN  NaN  NaN  NaN  NaN\n",
       " NaN    1.0  NaN  NaN    NaN    NaN    …  NaN  NaN  NaN  NaN  NaN  NaN  NaN\n",
       " NaN  NaN    NaN  NaN    NaN    NaN       NaN  NaN  NaN  NaN  NaN  NaN  NaN\n",
       " NaN  NaN    NaN  NaN    NaN    NaN       NaN  NaN  NaN  NaN  NaN  NaN  NaN\n",
       " NaN  NaN    NaN  NaN    NaN      1.0     NaN  NaN  NaN  NaN  NaN  NaN  NaN\n",
       " NaN  NaN    NaN  NaN    NaN    NaN       NaN  NaN  NaN  NaN  NaN  NaN  NaN\n",
       "   ⋮                              ⋮    ⋱              ⋮                 \n",
       " NaN  NaN    NaN  NaN    NaN    NaN       NaN  NaN  NaN  NaN  NaN  NaN  NaN\n",
       " NaN  NaN    NaN  NaN    NaN    NaN       NaN  NaN  NaN  NaN  NaN  NaN  NaN\n",
       " NaN  NaN    NaN  NaN    NaN    NaN       NaN  NaN  NaN  NaN  NaN  NaN  NaN\n",
       " NaN  NaN    NaN  NaN    NaN    NaN       NaN  NaN  NaN  NaN  NaN  NaN  NaN\n",
       " NaN  NaN    NaN  NaN    NaN    NaN    …  NaN  NaN  NaN  NaN  NaN  NaN  NaN\n",
       " NaN  NaN    NaN  NaN    NaN    NaN       NaN  NaN  NaN  NaN  NaN  NaN  NaN\n",
       " NaN  NaN    NaN  NaN    NaN    NaN       NaN  NaN  NaN  NaN  NaN  NaN  NaN\n",
       " NaN  NaN    NaN  NaN    NaN    NaN       NaN  NaN  NaN  NaN  NaN  NaN  NaN\n",
       " NaN  NaN    NaN  NaN    NaN    NaN       NaN  NaN  NaN  NaN  NaN  NaN  NaN"
      ]
     },
     "metadata": {},
     "output_type": "display_data"
    }
   ],
   "source": [
    "transposed_bitmask = bitmask'"
   ]
  },
  {
   "cell_type": "code",
   "execution_count": 10,
   "id": "210e805b",
   "metadata": {},
   "outputs": [
    {
     "name": "stdout",
     "output_type": "stream",
     "text": [
      "Range of Longitude: -89.998611 -30.001389\n",
      "Range of Latitude: -29.998611 14.998611\n",
      "Lonsize: 21600; Latsize 16200\n"
     ]
    }
   ],
   "source": [
    "using Formatting\n",
    "# Creating values for the base of visualisation\n",
    "\n",
    "lon = YAXArrays.getAxis(\"lon\", filtered_dc).values |> extrema \n",
    "lat = YAXArrays.getAxis(\"lat\", filtered_dc).values |> extrema\n",
    "lonrange = range(lon[1], lon[end], size(bitmask, 1))\n",
    "\n",
    "# we need to flip the latitude because of an error in the datacube!!!!!\n",
    "latrange = range(lat[1], lat[end], size(bitmask, 2))[end:-1:1]\n",
    "\n",
    "printfmtln(\"Range of Longitude: {:f} {:f}\", lon[1], lon[2])\n",
    "\n",
    "printfmtln(\"Range of Latitude: {:f} {:f}\", lat[1], lat[2])\n",
    "\n",
    "printfmtln(\"Lonsize: {:d}; Latsize {:d}\", length(lonrange), length(latrange))"
   ]
  },
  {
   "cell_type": "markdown",
   "id": "3c1fefa0",
   "metadata": {},
   "source": [
    "Checking the world map for forests in our filtered area (south america)"
   ]
  },
  {
   "cell_type": "code",
   "execution_count": 13,
   "id": "daf6fcb8",
   "metadata": {},
   "outputs": [
    {
     "data": {
      "image/png": "[encoded data removed]"
     },
     "metadata": {},
     "output_type": "display_data"
    }
   ],
   "source": [
    "using GeoMakie, GLMakie, Formatting\n",
    "\n",
    "fig = Figure()\n",
    "dest = \"+proj=lonlat\"\n",
    "ga = GeoMakie.GeoAxis(\n",
    "    fig[1, 1]; # any cell of the figure's layout\n",
    "    dest = dest,\n",
    "    source = dest,\n",
    "    coastlines = true # plot coastlines from Natural Earth, as a reference.\n",
    ")\n",
    "\n",
    "surface!(ga, lonrange, latrange, bitmask; shading = false, colormap = (:plasma, 0.45))\n",
    "\n",
    "fig"
   ]
  },
  {
   "cell_type": "code",
   "execution_count": 8,
   "id": "76b1b25b",
   "metadata": {},
   "outputs": [
    {
     "name": "stdout",
     "output_type": "stream",
     "text": [
      "Range of Longitude: -89.998611 -30.001389\n",
      "Range of Latitude: -29.998611 14.998611\n",
      "Lonsize: 21600; Latsize 16200\n"
     ]
    }
   ],
   "source": [
    "using GeoMakie, GLMakie, Formatting\n",
    "\n",
    "\n",
    "\n",
    "\n",
    "\n",
    "\n",
    "fig = Figure()\n",
    "dest = \"+proj=lonlat\"\n",
    "ga = GeoMakie.GeoAxis(\n",
    "    fig[1, 1]; # any cell of the figure's layout\n",
    "    dest = \"+proj=ortho +lon_0=-60 +lat_0=-15\",\n",
    "    # source = dest,\n",
    "    lonlims = automatic,\n",
    "    latlims = automatic,\n",
    "    coastlines = true # plot coastlines from Natural Earth, as a reference.\n",
    ")\n",
    "\n",
    "surface!(ga, lonrange, latrange, bitmask; shading = false, colormap = (:plasma, 0.45))\n",
    "\n",
    "fig"
   ]
  }
 ],
 "metadata": {
  "kernelspec": {
   "display_name": "Julia 1.9.1",
   "language": "julia",
   "name": "julia-1.9"
  },
  "language_info": {
   "file_extension": ".jl",
   "mimetype": "application/julia",
   "name": "julia",
   "version": "1.9.1"
  }
 },
 "nbformat": 4,
 "nbformat_minor": 5
}
