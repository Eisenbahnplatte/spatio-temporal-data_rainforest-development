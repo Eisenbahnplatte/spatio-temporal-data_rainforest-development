{
 "cells": [
  {
   "cell_type": "code",
   "execution_count": null,
   "metadata": {},
   "outputs": [],
   "source": [
    "# Tracking rainforest development in the amazon rainforest between 2010 and 2020"
   ]
  },
  {
   "cell_type": "markdown",
   "metadata": {},
   "source": [
    "Within this project we are trying to show and calculate forest loss in the South American Amazon rainforest within a ten year period. We will use the land cover data cube \n",
    "(https://s3.eu-central-1.amazonaws.com/deep-esdl-public/LC-1x2160x2160-1.0.0.levels/5.zarr) that relies on data provided and summarised by the Université catholique de Louvain.\n",
    "It is widely known that the amazon rainforest decreases by a large amount of trees every year, but we wanted to see if it is possible to see that large decrease within the \n",
    "ten years of the data cube as well. As a tool to develope our model, we created three modules to process the data.\n",
    "sample cube, extend, sources"
   ]
  },
  {
   "cell_type": "markdown",
   "metadata": {},
   "source": [
    "A few things are to be noted before putting the results into perspective: An error of about 5 % was proclaimed for the data set.\n",
    "The way the methodology to created the data was designed, not all changed between different LCCS categories are sometimes detected, putting the results into a different perspective.\n",
    "It is also worth nothing that abrupt changes are better captured than gradual ones. Since the deforestation is a relatively drastic event into the landscape, one should think that it will definitely showing in the data. The base of the maps that created the data cube is a 300m spatial resolution, which was calculated off 1km pixels, meaning any changes under 1km will not be displayed.\n",
    "Also changes occurring in the 2014 - 2015 period are reduced to forest changes only. It is not further specified if that includes only loss of forest or gain of forest as well.\n",
    "In the category that we used for the detection of rainforest (tree_broadleaved_evergreen_closed_to_open), if the amount of broadleaved, evergreen forest in that pixel is betweek 16 and 100%, it will be classified into that category. It is therefore possible that in an \"tree_broadleaved_evergreen_closed_to_open\" pixel, only 20% are actually broadleaved evergreen trees. Gaps were filled with nearest-neighbour method that has its own positive and negative aspects.\n",
    "The total tree fraction of a pixel that has >0% trees in it is always assigned to a single tree type. In our class used it means that the >15% broadleaf, evergreen trees will get the broad-leaved evergreen tree type. 90% in that class group are actually broadleaved-evergreen trees while 10% are natural grasses.\n"
   ]
  },
  {
   "cell_type": "markdown",
   "metadata": {},
   "source": []
  }
 ],
 "metadata": {
  "kernelspec": {
   "display_name": "Julia 1.9.0",
   "language": "julia",
   "name": "julia-1.9"
  },
  "language_info": {
   "file_extension": ".jl",
   "mimetype": "application/julia",
   "name": "julia",
   "version": "1.9.0"
  },
  "orig_nbformat": 4
 },
 "nbformat": 4,
 "nbformat_minor": 2
}
